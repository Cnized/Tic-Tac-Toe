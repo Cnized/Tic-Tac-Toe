{
 "cells": [
  {
   "cell_type": "code",
   "execution_count": null,
   "id": "28eb8a2b",
   "metadata": {},
   "outputs": [],
   "source": [
    "import random\n",
    "class TicTacToe:\n",
    "    def __init__(self):\n",
    "        self.board =[' '] * 10\n",
    "        #self.player_turn = random.choice([\"X\",\"O\"])\n",
    "        self.player_turn = \"X\"\n",
    "    \n",
    "    def show_board(self):\n",
    "        print(\"\\n\")\n",
    "        print(self.board[1] + \"|\" + self.board[2] + \"|\" + self.board[3] )\n",
    "        print(\"-----\")\n",
    "        print(self.board[4] + \"|\" + self.board[5] + \"|\" + self.board[6] )\n",
    "        print(\"-----\")\n",
    "        print(self.board[7] + \"|\" + self.board[8] + \"|\" + self.board[9] )\n",
    "        print(\"\\n\")\n",
    "        \n",
    "    def fill_board(self, player, cell):\n",
    "        self.board[cell] = player\n",
    "        \n",
    "    def change_turn(self):\n",
    "        if self.player_turn == \"X\":\n",
    "            self.player_turn = \"O\"\n",
    "        else:\n",
    "            self.player_turn = \"X\"\n",
    "        return self.player_turn\n",
    "    \n",
    "    def is_board_fill(self):\n",
    "        return ' ' not in self.board[1:]"
   ]
  },
  {
   "cell_type": "code",
   "execution_count": 2,
   "id": "f354df52",
   "metadata": {},
   "outputs": [
    {
     "ename": "NameError",
     "evalue": "name 'TicTacToe' is not defined",
     "output_type": "error",
     "traceback": [
      "\u001b[31m---------------------------------------------------------------------------\u001b[39m",
      "\u001b[31mNameError\u001b[39m                                 Traceback (most recent call last)",
      "\u001b[36mCell\u001b[39m\u001b[36m \u001b[39m\u001b[32mIn[2]\u001b[39m\u001b[32m, line 1\u001b[39m\n\u001b[32m----> \u001b[39m\u001b[32m1\u001b[39m game = \u001b[43mTicTacToe\u001b[49m()\n\u001b[32m      2\u001b[39m game.fill_board(\u001b[33m\"\u001b[39m\u001b[33mX\u001b[39m\u001b[33m\"\u001b[39m, \u001b[32m6\u001b[39m)\n\u001b[32m      3\u001b[39m game.show_board\n",
      "\u001b[31mNameError\u001b[39m: name 'TicTacToe' is not defined"
     ]
    }
   ],
   "source": [
    "game = TicTacToe()\n",
    "game.fill_board(\"X\", 6)\n",
    "game.show_board"
   ]
  }
 ],
 "metadata": {
  "kernelspec": {
   "display_name": ".venv",
   "language": "python",
   "name": "python3"
  },
  "language_info": {
   "codemirror_mode": {
    "name": "ipython",
    "version": 3
   },
   "file_extension": ".py",
   "mimetype": "text/x-python",
   "name": "python",
   "nbconvert_exporter": "python",
   "pygments_lexer": "ipython3",
   "version": "3.13.7"
  }
 },
 "nbformat": 4,
 "nbformat_minor": 5
}
